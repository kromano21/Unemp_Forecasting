{
 "cells": [
  {
   "cell_type": "code",
   "execution_count": 1,
   "id": "a43665b5-48b9-457b-b072-a5f45f8f4ccd",
   "metadata": {},
   "outputs": [],
   "source": [
    "import pandas as pd\n",
    "import numpy as np\n",
    "from scipy.stats import rv_discrete\n",
    "import seaborn as sns"
   ]
  },
  {
   "cell_type": "code",
   "execution_count": 92,
   "id": "0175271b-e9a7-4d7a-a748-9536c46c6427",
   "metadata": {},
   "outputs": [
    {
     "name": "stderr",
     "output_type": "stream",
     "text": [
      "C:\\Users\\kenny\\anaconda3\\Lib\\site-packages\\openpyxl\\worksheet\\header_footer.py:48: UserWarning: Cannot parse header or footer so it will be ignored\n",
      "  warn(\"\"\"Cannot parse header or footer so it will be ignored\"\"\")\n"
     ]
    }
   ],
   "source": [
    "df = pd.read_excel(\"C:/Users/kenny/Desktop/SPFmicrodata.xlsx\", sheet_name=\"PRUNEMP\")"
   ]
  },
  {
   "cell_type": "code",
   "execution_count": 94,
   "id": "4fda8ca8-1777-47c4-a69b-7f8532560798",
   "metadata": {},
   "outputs": [],
   "source": [
    "df.drop(df.columns[3:14], axis=1, inplace=True)"
   ]
  },
  {
   "cell_type": "code",
   "execution_count": 96,
   "id": "4fc1ef71-722f-479c-b842-20c3d8c51b7c",
   "metadata": {},
   "outputs": [],
   "source": [
    "df.drop(df.columns[13:], axis=1, inplace=True)"
   ]
  },
  {
   "cell_type": "code",
   "execution_count": 98,
   "id": "331be999-0cae-419a-a281-e8cd4e8e5940",
   "metadata": {},
   "outputs": [],
   "source": [
    "df[\"DATE\"]=df[\"YEAR\"] + df[\"QUARTER\"]/10"
   ]
  },
  {
   "cell_type": "code",
   "execution_count": 100,
   "id": "043e4626-657e-4728-9138-3f9c59724118",
   "metadata": {},
   "outputs": [],
   "source": [
    "mask = df[\"DATE\"] > 2009.1"
   ]
  },
  {
   "cell_type": "code",
   "execution_count": 102,
   "id": "730b3210-6533-49f9-979a-ea899ca41724",
   "metadata": {},
   "outputs": [],
   "source": [
    "df_filtered = df[mask]"
   ]
  },
  {
   "cell_type": "code",
   "execution_count": 104,
   "id": "571c74a8-8c03-48d2-afb5-ee8a7a22c855",
   "metadata": {},
   "outputs": [],
   "source": [
    "true_values = pd.read_csv(\"C:/Users/kenny/Desktop/Econ 416/UNRATE.csv\")"
   ]
  },
  {
   "cell_type": "code",
   "execution_count": 106,
   "id": "9464ce29-8efd-49aa-9789-ee8dd473ed03",
   "metadata": {},
   "outputs": [],
   "source": [
    "true_values['observation_date'] = pd.to_datetime(true_values['observation_date'])\n",
    "true_values['observation_date'] = true_values['observation_date'].dt.year"
   ]
  },
  {
   "cell_type": "code",
   "execution_count": 108,
   "id": "59efd9df-09ff-4205-8ea1-c2d9e9139749",
   "metadata": {},
   "outputs": [],
   "source": [
    "true_values.rename(columns={'observation_date':'YEAR'}, inplace=True)\n",
    "merged_df = df_filtered.merge(true_values, on='YEAR', how='left')"
   ]
  },
  {
   "cell_type": "code",
   "execution_count": 110,
   "id": "1349c474-2397-4382-9d85-f62eba342083",
   "metadata": {},
   "outputs": [],
   "source": [
    "df_without_nulls = merged_df.dropna()\n",
    "df_multi = df_without_nulls.set_index(['ID','DATE'])"
   ]
  },
  {
   "cell_type": "code",
   "execution_count": 112,
   "id": "18d0eda6-ab95-4d8f-8b95-f52dec721cf9",
   "metadata": {},
   "outputs": [
    {
     "data": {
      "text/html": [
       "<div>\n",
       "<style scoped>\n",
       "    .dataframe tbody tr th:only-of-type {\n",
       "        vertical-align: middle;\n",
       "    }\n",
       "\n",
       "    .dataframe tbody tr th {\n",
       "        vertical-align: top;\n",
       "    }\n",
       "\n",
       "    .dataframe thead th {\n",
       "        text-align: right;\n",
       "    }\n",
       "</style>\n",
       "<table border=\"1\" class=\"dataframe\">\n",
       "  <thead>\n",
       "    <tr style=\"text-align: right;\">\n",
       "      <th></th>\n",
       "      <th></th>\n",
       "      <th>YEAR</th>\n",
       "      <th>QUARTER</th>\n",
       "      <th>PRUNEMP11</th>\n",
       "      <th>PRUNEMP12</th>\n",
       "      <th>PRUNEMP13</th>\n",
       "      <th>PRUNEMP14</th>\n",
       "      <th>PRUNEMP15</th>\n",
       "      <th>PRUNEMP16</th>\n",
       "      <th>PRUNEMP17</th>\n",
       "      <th>PRUNEMP18</th>\n",
       "      <th>PRUNEMP19</th>\n",
       "      <th>PRUNEMP20</th>\n",
       "      <th>UNRATE</th>\n",
       "    </tr>\n",
       "    <tr>\n",
       "      <th>ID</th>\n",
       "      <th>DATE</th>\n",
       "      <th></th>\n",
       "      <th></th>\n",
       "      <th></th>\n",
       "      <th></th>\n",
       "      <th></th>\n",
       "      <th></th>\n",
       "      <th></th>\n",
       "      <th></th>\n",
       "      <th></th>\n",
       "      <th></th>\n",
       "      <th></th>\n",
       "      <th></th>\n",
       "      <th></th>\n",
       "    </tr>\n",
       "  </thead>\n",
       "  <tbody>\n",
       "    <tr>\n",
       "      <th>20</th>\n",
       "      <th>2009.2</th>\n",
       "      <td>2009</td>\n",
       "      <td>2</td>\n",
       "      <td>0.0</td>\n",
       "      <td>0.0</td>\n",
       "      <td>20.0</td>\n",
       "      <td>60.0</td>\n",
       "      <td>20.0</td>\n",
       "      <td>0.0</td>\n",
       "      <td>0.0</td>\n",
       "      <td>0.0</td>\n",
       "      <td>0.0</td>\n",
       "      <td>0.0</td>\n",
       "      <td>9.3</td>\n",
       "    </tr>\n",
       "    <tr>\n",
       "      <th>84</th>\n",
       "      <th>2009.2</th>\n",
       "      <td>2009</td>\n",
       "      <td>2</td>\n",
       "      <td>20.0</td>\n",
       "      <td>65.0</td>\n",
       "      <td>10.0</td>\n",
       "      <td>5.0</td>\n",
       "      <td>0.0</td>\n",
       "      <td>0.0</td>\n",
       "      <td>0.0</td>\n",
       "      <td>0.0</td>\n",
       "      <td>0.0</td>\n",
       "      <td>0.0</td>\n",
       "      <td>9.3</td>\n",
       "    </tr>\n",
       "    <tr>\n",
       "      <th>407</th>\n",
       "      <th>2009.2</th>\n",
       "      <td>2009</td>\n",
       "      <td>2</td>\n",
       "      <td>0.0</td>\n",
       "      <td>0.0</td>\n",
       "      <td>5.0</td>\n",
       "      <td>70.0</td>\n",
       "      <td>15.0</td>\n",
       "      <td>10.0</td>\n",
       "      <td>0.0</td>\n",
       "      <td>0.0</td>\n",
       "      <td>0.0</td>\n",
       "      <td>0.0</td>\n",
       "      <td>9.3</td>\n",
       "    </tr>\n",
       "    <tr>\n",
       "      <th>411</th>\n",
       "      <th>2009.2</th>\n",
       "      <td>2009</td>\n",
       "      <td>2</td>\n",
       "      <td>5.0</td>\n",
       "      <td>15.0</td>\n",
       "      <td>25.0</td>\n",
       "      <td>30.0</td>\n",
       "      <td>20.0</td>\n",
       "      <td>5.0</td>\n",
       "      <td>0.0</td>\n",
       "      <td>0.0</td>\n",
       "      <td>0.0</td>\n",
       "      <td>0.0</td>\n",
       "      <td>9.3</td>\n",
       "    </tr>\n",
       "    <tr>\n",
       "      <th>420</th>\n",
       "      <th>2009.2</th>\n",
       "      <td>2009</td>\n",
       "      <td>2</td>\n",
       "      <td>0.0</td>\n",
       "      <td>0.0</td>\n",
       "      <td>35.0</td>\n",
       "      <td>55.0</td>\n",
       "      <td>10.0</td>\n",
       "      <td>0.0</td>\n",
       "      <td>0.0</td>\n",
       "      <td>0.0</td>\n",
       "      <td>0.0</td>\n",
       "      <td>0.0</td>\n",
       "      <td>9.3</td>\n",
       "    </tr>\n",
       "    <tr>\n",
       "      <th>...</th>\n",
       "      <th>...</th>\n",
       "      <td>...</td>\n",
       "      <td>...</td>\n",
       "      <td>...</td>\n",
       "      <td>...</td>\n",
       "      <td>...</td>\n",
       "      <td>...</td>\n",
       "      <td>...</td>\n",
       "      <td>...</td>\n",
       "      <td>...</td>\n",
       "      <td>...</td>\n",
       "      <td>...</td>\n",
       "      <td>...</td>\n",
       "      <td>...</td>\n",
       "    </tr>\n",
       "    <tr>\n",
       "      <th>596</th>\n",
       "      <th>2024.4</th>\n",
       "      <td>2024</td>\n",
       "      <td>4</td>\n",
       "      <td>0.0</td>\n",
       "      <td>0.0</td>\n",
       "      <td>0.0</td>\n",
       "      <td>0.0</td>\n",
       "      <td>20.0</td>\n",
       "      <td>20.0</td>\n",
       "      <td>40.0</td>\n",
       "      <td>10.0</td>\n",
       "      <td>10.0</td>\n",
       "      <td>0.0</td>\n",
       "      <td>4.0</td>\n",
       "    </tr>\n",
       "    <tr>\n",
       "      <th>599</th>\n",
       "      <th>2024.4</th>\n",
       "      <td>2024</td>\n",
       "      <td>4</td>\n",
       "      <td>0.0</td>\n",
       "      <td>0.0</td>\n",
       "      <td>0.0</td>\n",
       "      <td>10.0</td>\n",
       "      <td>20.0</td>\n",
       "      <td>30.0</td>\n",
       "      <td>40.0</td>\n",
       "      <td>0.0</td>\n",
       "      <td>0.0</td>\n",
       "      <td>0.0</td>\n",
       "      <td>4.0</td>\n",
       "    </tr>\n",
       "    <tr>\n",
       "      <th>600</th>\n",
       "      <th>2024.4</th>\n",
       "      <td>2024</td>\n",
       "      <td>4</td>\n",
       "      <td>0.0</td>\n",
       "      <td>0.0</td>\n",
       "      <td>0.0</td>\n",
       "      <td>0.0</td>\n",
       "      <td>5.0</td>\n",
       "      <td>20.0</td>\n",
       "      <td>40.0</td>\n",
       "      <td>25.0</td>\n",
       "      <td>10.0</td>\n",
       "      <td>0.0</td>\n",
       "      <td>4.0</td>\n",
       "    </tr>\n",
       "    <tr>\n",
       "      <th>603</th>\n",
       "      <th>2024.4</th>\n",
       "      <td>2024</td>\n",
       "      <td>4</td>\n",
       "      <td>0.0</td>\n",
       "      <td>0.0</td>\n",
       "      <td>0.0</td>\n",
       "      <td>0.0</td>\n",
       "      <td>0.0</td>\n",
       "      <td>6.0</td>\n",
       "      <td>35.0</td>\n",
       "      <td>49.0</td>\n",
       "      <td>10.0</td>\n",
       "      <td>0.0</td>\n",
       "      <td>4.0</td>\n",
       "    </tr>\n",
       "    <tr>\n",
       "      <th>605</th>\n",
       "      <th>2024.4</th>\n",
       "      <td>2024</td>\n",
       "      <td>4</td>\n",
       "      <td>0.0</td>\n",
       "      <td>0.0</td>\n",
       "      <td>0.0</td>\n",
       "      <td>0.0</td>\n",
       "      <td>5.0</td>\n",
       "      <td>10.0</td>\n",
       "      <td>45.0</td>\n",
       "      <td>40.0</td>\n",
       "      <td>0.0</td>\n",
       "      <td>0.0</td>\n",
       "      <td>4.0</td>\n",
       "    </tr>\n",
       "  </tbody>\n",
       "</table>\n",
       "<p>2094 rows × 13 columns</p>\n",
       "</div>"
      ],
      "text/plain": [
       "            YEAR  QUARTER  PRUNEMP11  PRUNEMP12  PRUNEMP13  PRUNEMP14  \\\n",
       "ID  DATE                                                                \n",
       "20  2009.2  2009        2        0.0        0.0       20.0       60.0   \n",
       "84  2009.2  2009        2       20.0       65.0       10.0        5.0   \n",
       "407 2009.2  2009        2        0.0        0.0        5.0       70.0   \n",
       "411 2009.2  2009        2        5.0       15.0       25.0       30.0   \n",
       "420 2009.2  2009        2        0.0        0.0       35.0       55.0   \n",
       "...          ...      ...        ...        ...        ...        ...   \n",
       "596 2024.4  2024        4        0.0        0.0        0.0        0.0   \n",
       "599 2024.4  2024        4        0.0        0.0        0.0       10.0   \n",
       "600 2024.4  2024        4        0.0        0.0        0.0        0.0   \n",
       "603 2024.4  2024        4        0.0        0.0        0.0        0.0   \n",
       "605 2024.4  2024        4        0.0        0.0        0.0        0.0   \n",
       "\n",
       "            PRUNEMP15  PRUNEMP16  PRUNEMP17  PRUNEMP18  PRUNEMP19  PRUNEMP20  \\\n",
       "ID  DATE                                                                       \n",
       "20  2009.2       20.0        0.0        0.0        0.0        0.0        0.0   \n",
       "84  2009.2        0.0        0.0        0.0        0.0        0.0        0.0   \n",
       "407 2009.2       15.0       10.0        0.0        0.0        0.0        0.0   \n",
       "411 2009.2       20.0        5.0        0.0        0.0        0.0        0.0   \n",
       "420 2009.2       10.0        0.0        0.0        0.0        0.0        0.0   \n",
       "...               ...        ...        ...        ...        ...        ...   \n",
       "596 2024.4       20.0       20.0       40.0       10.0       10.0        0.0   \n",
       "599 2024.4       20.0       30.0       40.0        0.0        0.0        0.0   \n",
       "600 2024.4        5.0       20.0       40.0       25.0       10.0        0.0   \n",
       "603 2024.4        0.0        6.0       35.0       49.0       10.0        0.0   \n",
       "605 2024.4        5.0       10.0       45.0       40.0        0.0        0.0   \n",
       "\n",
       "            UNRATE  \n",
       "ID  DATE            \n",
       "20  2009.2     9.3  \n",
       "84  2009.2     9.3  \n",
       "407 2009.2     9.3  \n",
       "411 2009.2     9.3  \n",
       "420 2009.2     9.3  \n",
       "...            ...  \n",
       "596 2024.4     4.0  \n",
       "599 2024.4     4.0  \n",
       "600 2024.4     4.0  \n",
       "603 2024.4     4.0  \n",
       "605 2024.4     4.0  \n",
       "\n",
       "[2094 rows x 13 columns]"
      ]
     },
     "execution_count": 112,
     "metadata": {},
     "output_type": "execute_result"
    }
   ],
   "source": [
    "df_multi"
   ]
  },
  {
   "cell_type": "code",
   "execution_count": 114,
   "id": "5fd0817e-0fe0-42c3-81af-49cfa238880c",
   "metadata": {},
   "outputs": [],
   "source": [
    "prob_cols = [f'PRUNEMP{i}' for i in range(11, 21)]\n",
    "df_multi['prob_sum'] = df_multi[prob_cols].sum(axis=1)\n",
    "invalid_rows = df_multi[df_multi['prob_sum'] != 100]"
   ]
  },
  {
   "cell_type": "code",
   "execution_count": 116,
   "id": "a388a8d2-3585-40e7-b004-99a7d0c2c95e",
   "metadata": {},
   "outputs": [],
   "source": [
    "for id in invalid_rows.index.get_level_values(0).unique():\n",
    "    id_row = df_multi.loc[id]\n",
    "    for date in id_row.index:\n",
    "        row = id_row.loc[date, 'PRUNEMP11':'PRUNEMP20']\n",
    "        biggest_col = row.idxmax()\n",
    "        df_multi.loc[(id, date), biggest_col] = df_multi.loc[(id, date), biggest_col] - (df_multi.loc[(id, date), 'prob_sum'] - 100.00)"
   ]
  },
  {
   "cell_type": "markdown",
   "id": "02aba290-3cef-48d8-8904-5e2b63f130c7",
   "metadata": {},
   "source": [
    "## Analysis"
   ]
  },
  {
   "cell_type": "code",
   "execution_count": 119,
   "id": "82ab84c9-9229-461f-9fba-ec523750238c",
   "metadata": {},
   "outputs": [],
   "source": [
    "def sample_from_dist(intervals, probs):\n",
    "    rng = np.random.default_rng()\n",
    "    interval_idx = rng.choice(len(intervals), p = probs)\n",
    "    left, right = intervals[interval_idx]\n",
    "    return rng.uniform(left, right)"
   ]
  },
  {
   "cell_type": "code",
   "execution_count": 121,
   "id": "a7796939-3edd-4264-9f0a-8bc970c0af6f",
   "metadata": {},
   "outputs": [],
   "source": [
    "def find_rationality(df):\n",
    "    percent_rational = pd.DataFrame(columns=[\"Percentage\"])\n",
    "    for id in df.index.get_level_values(0).unique():\n",
    "        rational_count = 0\n",
    "        attempts = 0\n",
    "        id_row = df.loc[id]\n",
    "        for date in id_row.index:\n",
    "            attempts += 1\n",
    "            year = id_row.loc[date, 'YEAR']\n",
    "            if year < 2014:\n",
    "                bins = [(5,5.9),(6,6.9),(7,7.4),(7.5,7.9),(8.0,8.4),(8.5,8.9),(9,9.4),(9.5,9.9),(10,10.9),(11,12)]\n",
    "            elif 2014 < year < 2020.2:\n",
    "                bins = [(3, 3.9), (4, 4.9), (5, 5.4), (5.5, 5.9), (6, 6.4), (6.5, 6.9), (7, 7.4), (7.5, 7.9), (8, 8.9), (9, 10)]\n",
    "            elif 2020.1 < year < 2024.2:\n",
    "                bins = [(2, 2.9), (3, 3.9), (4, 4.9), (5, 5.9), (6, 6.9), (7, 7.9), (8, 9.9), (10, 11.9), (12, 14.9), (15,16)]\n",
    "            else:\n",
    "                bins = [(2.1, 3.1), (3.1, 3.6), (3.7, 4.2), (4.3,4.8), (4.9, 5.4), (5.5, 6.0), (6.1, 7.1), (7.2, 8.2), (8.3, 9.8), (9.9, 10.9)]\n",
    "            probs = [id_row.loc[date, f'PRUNEMP{n}'] / 100 for n in range(11,21)][::-1]\n",
    "            N = 1000\n",
    "            obs = np.array([])\n",
    "            for i in range(N):\n",
    "                obs = np.append(obs, sample_from_dist(bins,probs))\n",
    "            left = np.percentile(obs, 2.5)\n",
    "            right = np.percentile(obs, 97.5)\n",
    "            true_value = id_row.loc[date, 'UNRATE']\n",
    "            if left <= true_value <= right:\n",
    "                rational_count += 1\n",
    "        percent_rational.loc[len(percent_rational)] = [rational_count/attempts * 100]\n",
    "    return percent_rational"
   ]
  },
  {
   "cell_type": "code",
   "execution_count": 123,
   "id": "63b0e301-d77c-4089-9b11-fdb0e3cc54d8",
   "metadata": {},
   "outputs": [],
   "source": [
    "rational_df = find_rationality(df_multi)"
   ]
  },
  {
   "cell_type": "code",
   "execution_count": 125,
   "id": "4a9fa359-daa6-4571-b460-960224781992",
   "metadata": {},
   "outputs": [
    {
     "data": {
      "text/plain": [
       "<Axes: xlabel='Percentage', ylabel='Count'>"
      ]
     },
     "execution_count": 125,
     "metadata": {},
     "output_type": "execute_result"
    },
    {
     "data": {
      "image/png": "[encoded data removed]",
      "text/plain": [
       "<Figure size 640x480 with 1 Axes>"
      ]
     },
     "metadata": {},
     "output_type": "display_data"
    }
   ],
   "source": [
    "sns.histplot(data = rational_df[\"Percentage\"])"
   ]
  },
  {
   "cell_type": "code",
   "execution_count": 127,
   "id": "d9f0dc79-8675-4c90-8106-fa97ce268e88",
   "metadata": {},
   "outputs": [],
   "source": [
    "rational_count = (rational_df['Percentage'] >= 50).sum()"
   ]
  },
  {
   "cell_type": "code",
   "execution_count": 129,
   "id": "1fbc7047-ba49-418b-be67-a50a61eff53f",
   "metadata": {},
   "outputs": [],
   "source": [
    "total = (rational_df['Percentage']).count()"
   ]
  },
  {
   "cell_type": "code",
   "execution_count": 131,
   "id": "b498e5f9-38ba-4aa0-8250-f991d1eb4311",
   "metadata": {},
   "outputs": [
    {
     "data": {
      "text/plain": [
       "94.44444444444444"
      ]
     },
     "execution_count": 131,
     "metadata": {},
     "output_type": "execute_result"
    }
   ],
   "source": [
    "rational_count/total * 100"
   ]
  },
  {
   "cell_type": "markdown",
   "id": "28db1d3f-cbe0-4b96-8194-52ba0a9e8894",
   "metadata": {},
   "source": [
    "If a forecaster needs to have at least half of their predictions right, then 94.44% of the forecasters are rational."
   ]
  },
  {
   "cell_type": "code",
   "execution_count": null,
   "id": "d8608836-9b13-4939-b6bd-acd8d1130e58",
   "metadata": {},
   "outputs": [],
   "source": []
  }
 ],
 "metadata": {
  "kernelspec": {
   "display_name": "Python 3 (ipykernel)",
   "language": "python",
   "name": "python3"
  },
  "language_info": {
   "codemirror_mode": {
    "name": "ipython",
    "version": 3
   },
   "file_extension": ".py",
   "mimetype": "text/x-python",
   "name": "python",
   "nbconvert_exporter": "python",
   "pygments_lexer": "ipython3",
   "version": "3.12.4"
  }
 },
 "nbformat": 4,
 "nbformat_minor": 5
}
